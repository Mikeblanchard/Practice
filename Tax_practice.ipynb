{
  "nbformat": 4,
  "nbformat_minor": 0,
  "metadata": {
    "colab": {
      "name": "Untitled16.ipynb",
      "provenance": []
    },
    "kernelspec": {
      "name": "python3",
      "display_name": "Python 3"
    },
    "language_info": {
      "name": "python"
    }
  },
  "cells": [
    {
      "cell_type": "code",
      "metadata": {
        "id": "wdHOpOTN2nrf"
      },
      "source": [
        "import pandas as pd\n",
        "import itertools  \n",
        "from bisect import bisect"
      ],
      "execution_count": 4,
      "outputs": []
    },
    {
      "cell_type": "code",
      "metadata": {
        "id": "eiprH8Vm2qQr"
      },
      "source": [
        "\n",
        "rates = [0, 10, 20, 30]   # 10%  20%  30%\n",
        "\n",
        "brackets = [10000,        # first 10,000\n",
        "            30000,        # next  20,000\n",
        "            70000]        # next  40,000\n",
        "\n",
        "base_tax = [0,            # 10,000 * 0%\n",
        "            2000,         # 20,000 * 10%\n",
        "            10000]        # 40,000 * 20% + 2,000\n",
        "\n",
        "def tax(income):\n",
        "    i = bisect(brackets, income)\n",
        "    if not i:\n",
        "        return 0\n",
        "    rate = rates[i]\n",
        "    bracket = brackets[i-1]\n",
        "    income_in_bracket = income - bracket\n",
        "    tax_in_bracket = income_in_bracket * rate / 100\n",
        "    total_tax = base_tax[i-1] + tax_in_bracket\n",
        "    return total_tax"
      ],
      "execution_count": 6,
      "outputs": []
    },
    {
      "cell_type": "code",
      "metadata": {
        "colab": {
          "base_uri": "https://localhost:8080/"
        },
        "id": "QJ8Ki3-63Kte",
        "outputId": "14ef2845-d685-41c4-f182-6d68b48ecc6f"
      },
      "source": [
        "while True:\n",
        "    try:\n",
        "\n",
        "        income = int(input(\"Please enter your taxable income: \"))\n",
        "    except ValueError:\n",
        "        print(\"Sorry, I didn't understand that please enter taxable income as a number\")\n",
        "\n",
        "        continue\n",
        "    else:\n",
        "        break\n",
        "\n",
        "if income <= 18200:\n",
        "    tax = 0\n",
        "\n",
        "elif income <= 37000: \n",
        "    tax = (income - 18200) * 0.19 \n",
        "\n",
        "elif income <= 90000:\n",
        "    tax = (income-37000) * 0.235 + 3572 \n",
        "\n",
        "elif income <= 180000:\n",
        "    tax = (income - 90000) * 0.37 + 20797 \n",
        "\n",
        "else:\n",
        "    tax = (income - 180000) * 0.45 + 54097\n",
        "\n",
        "print(\"you owe\", tax, \"dollars in tax!\" )"
      ],
      "execution_count": 7,
      "outputs": [
        {
          "output_type": "stream",
          "text": [
            "Please enter your taxable income: 85000\n",
            "you owe 14852.0 dollars in tax!\n"
          ],
          "name": "stdout"
        }
      ]
    }
  ]
}